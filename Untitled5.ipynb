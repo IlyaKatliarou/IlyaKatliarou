{
 "cells": [
  {
   "cell_type": "code",
   "execution_count": 10,
   "metadata": {},
   "outputs": [
    {
     "name": "stdout",
     "output_type": "stream",
     "text": [
      "   customer_id reporting_date default_moment  intodefault  mrating    PD\n",
      "0            1     31.01.2010     30.09.2010            1       21  0.20\n",
      "1            1     28.02.2010     30.09.2010            1       22  0.25\n",
      "2            1     31.03.2010     30.09.2010            1       22  0.25\n",
      "3            1     30.04.2010     30.09.2010            1       22  0.25\n",
      "4            1     31.05.2010     30.09.2010            1       22  0.25\n",
      "5            1     30.06.2010     30.09.2010            1       22  0.25\n",
      "6            1     31.07.2010     30.09.2010            1       22  0.25\n",
      "7            1     31.08.2010     30.09.2010            1       22  0.25\n",
      "8            1     30.09.2010     31.12.2010            1       22  0.25\n",
      "9            2     31.01.2010            NaN            0       18  0.09 customer_id         int64\n",
      "reporting_date     object\n",
      "default_moment     object\n",
      "intodefault         int64\n",
      "mrating             int64\n",
      "PD                float64\n",
      "dtype: object\n"
     ]
    }
   ],
   "source": [
    "import pandas as pd\n",
    "import numpy as np\n",
    "import matplotlib.pyplot as plt\n",
    "data = pd.read_csv(\"sample_data_CRM.csv\", sep = \";\", header = 0)\n",
    "print(data.head(10), data.dtypes)"
   ]
  },
  {
   "cell_type": "code",
   "execution_count": 11,
   "metadata": {},
   "outputs": [
    {
     "name": "stdout",
     "output_type": "stream",
     "text": [
      "   customer_id reporting_date default_moment  intodefault  mrating    PD\n",
      "0            1     2010-01-31     2010-09-30            1       21  0.20\n",
      "1            1     2010-02-28     2010-09-30            1       22  0.25\n",
      "2            1     2010-03-31     2010-09-30            1       22  0.25\n",
      "3            1     2010-04-30     2010-09-30            1       22  0.25\n",
      "4            1     2010-05-31     2010-09-30            1       22  0.25\n",
      "5            1     2010-06-30     2010-09-30            1       22  0.25\n",
      "6            1     2010-07-31     2010-09-30            1       22  0.25\n",
      "7            1     2010-08-31     2010-09-30            1       22  0.25\n",
      "8            1     2010-09-30     2010-12-31            1       22  0.25\n",
      "9            2     2010-01-31            NaT            0       18  0.09 customer_id                int64\n",
      "reporting_date    datetime64[ns]\n",
      "default_moment    datetime64[ns]\n",
      "intodefault                int64\n",
      "mrating                    int64\n",
      "PD                       float64\n",
      "dtype: object\n"
     ]
    }
   ],
   "source": [
    "data[\"reporting_date\"] = pd.to_datetime(data.reporting_date, format='%d.%m.%Y')\n",
    "data[\"default_moment\"] = pd.to_datetime(data.default_moment, format='%d.%m.%Y')\n",
    "print(data.head(10), data.dtypes)"
   ]
  },
  {
   "cell_type": "code",
   "execution_count": 12,
   "metadata": {},
   "outputs": [
    {
     "data": {
      "text/plain": [
       "<matplotlib.axes._subplots.AxesSubplot at 0x1eaf0c47e88>"
      ]
     },
     "execution_count": 12,
     "metadata": {},
     "output_type": "execute_result"
    },
    {
     "data": {
      "image/png": "[encoded data removed]",
      "text/plain": [
       "<Figure size 432x288 with 1 Axes>"
      ]
     },
     "metadata": {
      "needs_background": "light"
     },
     "output_type": "display_data"
    }
   ],
   "source": [
    "data.groupby('mrating').size().plot(kind='bar')"
   ]
  },
  {
   "cell_type": "code",
   "execution_count": 13,
   "metadata": {},
   "outputs": [
    {
     "name": "stdout",
     "output_type": "stream",
     "text": [
      "mrating  intodefault\n",
      "10       0              1172\n",
      "         1                90\n",
      "11       0              1569\n",
      "         1               153\n",
      "12       0              2234\n",
      "         1               225\n",
      "13       0              3216\n",
      "         1               373\n",
      "14       0              3559\n",
      "         1               436\n",
      "15       0              3364\n",
      "         1               395\n",
      "16       0              3192\n",
      "         1               591\n",
      "17       0              3082\n",
      "         1               664\n",
      "18       0              2631\n",
      "         1               825\n",
      "19       0              2364\n",
      "         1               991\n",
      "20       0              1878\n",
      "         1               869\n",
      "21       0              1554\n",
      "         1              1014\n",
      "22       0              1323\n",
      "         1               946\n",
      "23       0               800\n",
      "         1               760\n",
      "24       0               365\n",
      "         1               493\n",
      "25       0               273\n",
      "         1               278\n",
      "Name: customer_id, dtype: int64\n"
     ]
    },
    {
     "data": {
      "image/png": "[encoded data removed]",
      "text/plain": [
       "<Figure size 432x288 with 1 Axes>"
      ]
     },
     "metadata": {
      "needs_background": "light"
     },
     "output_type": "display_data"
    }
   ],
   "source": [
    "default_count = data.groupby(['mrating', 'intodefault'])['customer_id'].count()\n",
    "default_count_plot = default_count.unstack().plot.bar()\n",
    "print(default_count)"
   ]
  },
  {
   "cell_type": "code",
   "execution_count": 14,
   "metadata": {},
   "outputs": [
    {
     "name": "stdout",
     "output_type": "stream",
     "text": [
      "       customer_id reporting_date default_moment  intodefault  mrating    PD\n",
      "0                1     2010-01-31     2010-09-30            1       21  0.20\n",
      "1                1     2010-02-28     2010-09-30            1       22  0.25\n",
      "2                1     2010-03-31     2010-09-30            1       22  0.25\n",
      "3                1     2010-04-30     2010-09-30            1       22  0.25\n",
      "4                1     2010-05-31     2010-09-30            1       22  0.25\n",
      "...            ...            ...            ...          ...      ...   ...\n",
      "41674         2501     2011-07-31            NaT            0       17  0.06\n",
      "41675         2501     2011-08-31            NaT            0       17  0.06\n",
      "41676         2501     2011-09-30            NaT            0       17  0.06\n",
      "41677         2501     2011-10-31            NaT            0       17  0.06\n",
      "41678         2501     2011-11-30            NaT            0       17  0.06\n",
      "\n",
      "[41679 rows x 6 columns]\n"
     ]
    }
   ],
   "source": [
    "print(data)\n",
    "a_10N = data.query('mrating<=10 and intodefault==0')\n",
    "a_10D = data.query('mrating<=10 and intodefault==1')\n",
    "HR_10 = a_10N.groupby(['mrating', 'intodefault'])['customer_id'].count().sum()\n",
    "FAR_10 = a_10D.groupby(['mrating', 'intodefault'])['customer_id'].count().sum()"
   ]
  },
  {
   "cell_type": "code",
   "execution_count": 15,
   "metadata": {},
   "outputs": [],
   "source": [
    "a_101N = data.query('mrating>=10 and intodefault==0')\n",
    "a_101D = data.query('mrating>=10 and intodefault==1')\n",
    "FN_101 = a_101N.groupby(['mrating', 'intodefault'])['customer_id'].count().sum()\n",
    "TN_101 = a_101D.groupby(['mrating', 'intodefault'])['customer_id'].count().sum()"
   ]
  },
  {
   "cell_type": "code",
   "execution_count": 16,
   "metadata": {},
   "outputs": [
    {
     "name": "stdout",
     "output_type": "stream",
     "text": [
      "32576 0        21\n",
      "1        22\n",
      "2        22\n",
      "3        22\n",
      "4        22\n",
      "         ..\n",
      "41628    21\n",
      "41629    21\n",
      "41630    21\n",
      "41631    21\n",
      "41632    21\n",
      "Name: mrating, Length: 9103, dtype: int64\n",
      "0.711297067820967\n"
     ]
    }
   ],
   "source": [
    "NonDef = data[(data.intodefault==0)]\n",
    "NonDefr = NonDef[\"mrating\"]\n",
    "Def = data[(data.intodefault==1)]\n",
    "Defr = Def[\"mrating\"]\n",
    "print(len(NonDefr), Defr)\n",
    "from scipy.stats import mannwhitneyu\n",
    "mwu = mannwhitneyu(x=Defr, y=NonDefr, alternative='two-sided')\n",
    "mwustat = mwu.statistic\n",
    "AUCcurr = mwustat/(len(NonDefr)*len(Defr))\n",
    "print(AUCcurr)"
   ]
  },
  {
   "cell_type": "code",
   "execution_count": 17,
   "metadata": {},
   "outputs": [
    {
     "name": "stdout",
     "output_type": "stream",
     "text": [
      "[[   0    0 1172 1569 2234 3216 3559 3364 3192 3082 2631 2364 1878 1554\n",
      "  1323  800  365  273]\n",
      " [   0    0   90  153  225  373  436  395  591  664  825  991  869 1014\n",
      "   946  760  493  278]\n",
      " [   0    0    0    0    0    0    0    0    0    0    0    0    0    0\n",
      "     0    0    0    0]\n",
      " [   0    0    0    0    0    0    0    0    0    0    0    0    0    0\n",
      "     0    0    0    0]\n",
      " [   0    0    0    0    0    0    0    0    0    0    0    0    0    0\n",
      "     0    0    0    0]\n",
      " [   0    0    0    0    0    0    0    0    0    0    0    0    0    0\n",
      "     0    0    0    0]\n",
      " [   0    0    0    0    0    0    0    0    0    0    0    0    0    0\n",
      "     0    0    0    0]\n",
      " [   0    0    0    0    0    0    0    0    0    0    0    0    0    0\n",
      "     0    0    0    0]\n",
      " [   0    0    0    0    0    0    0    0    0    0    0    0    0    0\n",
      "     0    0    0    0]\n",
      " [   0    0    0    0    0    0    0    0    0    0    0    0    0    0\n",
      "     0    0    0    0]\n",
      " [   0    0    0    0    0    0    0    0    0    0    0    0    0    0\n",
      "     0    0    0    0]\n",
      " [   0    0    0    0    0    0    0    0    0    0    0    0    0    0\n",
      "     0    0    0    0]\n",
      " [   0    0    0    0    0    0    0    0    0    0    0    0    0    0\n",
      "     0    0    0    0]\n",
      " [   0    0    0    0    0    0    0    0    0    0    0    0    0    0\n",
      "     0    0    0    0]\n",
      " [   0    0    0    0    0    0    0    0    0    0    0    0    0    0\n",
      "     0    0    0    0]\n",
      " [   0    0    0    0    0    0    0    0    0    0    0    0    0    0\n",
      "     0    0    0    0]\n",
      " [   0    0    0    0    0    0    0    0    0    0    0    0    0    0\n",
      "     0    0    0    0]\n",
      " [   0    0    0    0    0    0    0    0    0    0    0    0    0    0\n",
      "     0    0    0    0]] [0.         0.0083804  0.01958497 0.04414293 0.08475565 0.13245948\n",
      " 0.19010928 0.26267805 0.34344303 0.43805255 0.5360388  0.63930501\n",
      " 0.74855722 0.84728021 0.9158583  0.96402259 1.        ] [0.         0.03053938 0.08469735 0.16818631 0.2721081  0.38349995\n",
      " 0.47896298 0.58782819 0.67845765 0.75140064 0.81632429 0.85971658\n",
      " 0.90761287 0.94858838 0.9733055  0.99011315 1.        ] [26 25 24 23 22 21 20 19 18 17 16 15 14 13 12 11 10]\n"
     ]
    },
    {
     "data": {
      "image/png": "[encoded data removed]",
      "text/plain": [
       "<Figure size 936x720 with 1 Axes>"
      ]
     },
     "metadata": {
      "needs_background": "light"
     },
     "output_type": "display_data"
    }
   ],
   "source": [
    "from sklearn.metrics import roc_auc_score\n",
    "from sklearn.metrics import roc_curve\n",
    "from sklearn.metrics import plot_roc_curve\n",
    "from sklearn.metrics import confusion_matrix\n",
    "\n",
    "intodefault = data['intodefault']\n",
    "mrating = data['mrating']\n",
    "\n",
    "conf_matrix = confusion_matrix(intodefault, mrating)\n",
    "\n",
    "false_positive_rate, true_positive_rate, threshold = roc_curve(intodefault, mrating)\n",
    "plt.figure(figsize=(13,10))\n",
    "plt.plot(false_positive_rate, true_positive_rate, marker='o', linestyle='--', color=\"g\")\n",
    "plt.title(\"ROC curve\", size=25)\n",
    "plt.xlabel(\"FP rate\", size=18)\n",
    "plt.ylabel(\"TP rate\", size=18)\n",
    "\n",
    "AUC_currr = roc_auc_score(intodefault, mrating)\n",
    "print(conf_matrix, false_positive_rate, true_positive_rate, threshold)"
   ]
  },
  {
   "cell_type": "code",
   "execution_count": 18,
   "metadata": {},
   "outputs": [],
   "source": [
    "import scipy.stats\n",
    "\n",
    "# AUC comparison adapted from\n",
    "# https://github.com/Netflix/vmaf/\n",
    "def compute_midrank(x):\n",
    "    J = np.argsort(x)\n",
    "    Z = x[J]\n",
    "    N = len(x)\n",
    "    T = np.zeros(N, dtype=np.float)\n",
    "    i = 0\n",
    "    while i < N:\n",
    "        j = i\n",
    "        while j < N and Z[j] == Z[i]:\n",
    "            j += 1\n",
    "        T[i:j] = 0.5*(i + j - 1)\n",
    "        i = j\n",
    "    T2 = np.empty(N, dtype=np.float)\n",
    "    T2[J] = T + 1\n",
    "    return T2\n",
    "\n",
    "\n",
    "def compute_midrank_weight(x, sample_weight):\n",
    "    J = np.argsort(x)\n",
    "    Z = x[J]\n",
    "    cumulative_weight = np.cumsum(sample_weight[J])\n",
    "    N = len(x)\n",
    "    T = np.zeros(N, dtype=np.float)\n",
    "    i = 0\n",
    "    while i < N:\n",
    "        j = i\n",
    "        while j < N and Z[j] == Z[i]:\n",
    "            j += 1\n",
    "        T[i:j] = cumulative_weight[i:j].mean()\n",
    "        i = j\n",
    "    T2 = np.empty(N, dtype=np.float)\n",
    "    T2[J] = T\n",
    "    return T2\n",
    "\n",
    "\n",
    "def DeLong(predictions_sorted_transposed, label_1_count):\n",
    "    m = label_1_count\n",
    "    n = predictions_sorted_transposed.shape[1] - m\n",
    "    positive_examples = predictions_sorted_transposed[:, :m]\n",
    "    negative_examples = predictions_sorted_transposed[:, m:]\n",
    "    k = predictions_sorted_transposed.shape[0]\n",
    "\n",
    "    tx = np.empty([k, m], dtype=np.float)\n",
    "    ty = np.empty([k, n], dtype=np.float)\n",
    "    tz = np.empty([k, m + n], dtype=np.float)\n",
    "    for r in range(k):\n",
    "        tx[r, :] = compute_midrank(positive_examples[r, :])\n",
    "        ty[r, :] = compute_midrank(negative_examples[r, :])\n",
    "        tz[r, :] = compute_midrank(predictions_sorted_transposed[r, :])\n",
    "    aucs = tz[:, :m].sum(axis=1) / m / n - float(m + 1.0) / 2.0 / n\n",
    "    v01 = (tz[:, :m] - tx[:, :]) / n\n",
    "    v10 = 1.0 - (tz[:, m:] - ty[:, :]) / m\n",
    "    sx = np.cov(v01)\n",
    "    sy = np.cov(v10)\n",
    "    delongcov = sx / m + sy / n\n",
    "    return aucs, delongcov\n",
    "\n",
    "\n",
    "def calc_pvalue(aucs, sigma):\n",
    "    l = np.array([[1, -1]])\n",
    "    z = np.abs(np.diff(aucs)) / np.sqrt(np.dot(np.dot(l, sigma), l.T))\n",
    "    return np.log10(2) + scipy.stats.norm.logsf(z, loc=0, scale=1) / np.log(10)\n",
    "\n",
    "\n",
    "def compute_ground_truth_statistics(ground_truth, sample_weight=None):\n",
    "    assert np.array_equal(np.unique(ground_truth), [0, 1])\n",
    "    order = (-ground_truth).argsort()\n",
    "    label_1_count = int(ground_truth.sum())\n",
    "    if sample_weight is None:\n",
    "        ordered_sample_weight = None\n",
    "    else:\n",
    "        ordered_sample_weight = sample_weight[order]\n",
    "\n",
    "    return order, label_1_count, ordered_sample_weight\n",
    "\n",
    "\n",
    "def delong_roc_variance(ground_truth, predictions):\n",
    "    sample_weight = None\n",
    "    order, label_1_count, ordered_sample_weight = compute_ground_truth_statistics(\n",
    "        ground_truth, sample_weight)\n",
    "    predictions_sorted_transposed = predictions[np.newaxis, order]\n",
    "    aucs, delongcov = DeLong(predictions_sorted_transposed, label_1_count)\n",
    "    assert len(aucs) == 1\n",
    "    return aucs[0], delongcov\n",
    "\n",
    "\n",
    "def delong_roc_test(ground_truth, predictions_one, predictions_two):\n",
    "    sample_weight = None\n",
    "    order, label_1_count = compute_ground_truth_statistics(ground_truth)\n",
    "    predictions_sorted_transposed = np.vstack((predictions_one, predictions_two))[:, order]\n",
    "    aucs, delongcov = DeLong(predictions_sorted_transposed, label_1_count)\n",
    "    return calc_pvalue(aucs, delongcov)\n",
    "\n",
    "auc, delongcov = delong_roc_variance(intodefault, mrating)"
   ]
  },
  {
   "cell_type": "code",
   "execution_count": 19,
   "metadata": {},
   "outputs": [
    {
     "name": "stdout",
     "output_type": "stream",
     "text": [
      "0.0030828892817132136 9.504206323302214e-06\n",
      "3.2437103918447696 0.7112970678209671\n"
     ]
    },
    {
     "data": {
      "text/plain": [
       "0.9979290898581541"
      ]
     },
     "execution_count": 19,
     "metadata": {},
     "output_type": "execute_result"
    }
   ],
   "source": [
    "import math\n",
    "varS = math.sqrt(delongcov)\n",
    "print(varS, delongcov)\n",
    "AUCinit=0.75\n",
    "S=(AUCinit-0.74)/varS\n",
    "print(S, AUC_currr)\n",
    "\n",
    "1-scipy.stats.norm.pdf(x=S, loc=0, scale=1)"
   ]
  },
  {
   "cell_type": "code",
   "execution_count": 20,
   "metadata": {},
   "outputs": [],
   "source": [
    "default_rate = data.groupby(['mrating', 'intodefault'])['customer_id'].count().unstack()\n",
    "\n",
    "#default_rate = rat_def.groupby(['mrating', 'intodefault'])['customer_id'].count().unstack()"
   ]
  },
  {
   "cell_type": "code",
   "execution_count": 21,
   "metadata": {},
   "outputs": [
    {
     "name": "stdout",
     "output_type": "stream",
     "text": [
      "[0.001 0.002 0.004 0.008 0.016 0.025 0.04  0.06  0.09  0.14  0.16  0.2\n",
      " 0.25  0.3   0.36  0.45 ]\n"
     ]
    }
   ],
   "source": [
    "PDs = np.unique(data['PD'])\n",
    "print(PDs)"
   ]
  },
  {
   "cell_type": "code",
   "execution_count": 22,
   "metadata": {},
   "outputs": [
    {
     "ename": "NameError",
     "evalue": "name 'DRsn' is not defined",
     "output_type": "error",
     "traceback": [
      "\u001b[1;31m---------------------------------------------------------------------------\u001b[0m",
      "\u001b[1;31mNameError\u001b[0m                                 Traceback (most recent call last)",
      "\u001b[1;32m<ipython-input-22-505f8555fc05>\u001b[0m in \u001b[0;36m<module>\u001b[1;34m\u001b[0m\n\u001b[1;32m----> 1\u001b[1;33m \u001b[0msig\u001b[0m \u001b[1;33m=\u001b[0m \u001b[1;33m(\u001b[0m\u001b[0mPDs\u001b[0m\u001b[1;33m*\u001b[0m\u001b[1;33m(\u001b[0m\u001b[1;36m1\u001b[0m\u001b[1;33m-\u001b[0m\u001b[0mPDs\u001b[0m\u001b[1;33m)\u001b[0m\u001b[1;33m)\u001b[0m\u001b[1;33m/\u001b[0m\u001b[0mDRsn\u001b[0m\u001b[1;33m\u001b[0m\u001b[1;33m\u001b[0m\u001b[0m\n\u001b[0m\u001b[0;32m      2\u001b[0m \u001b[0mz\u001b[0m \u001b[1;33m=\u001b[0m \u001b[1;33m(\u001b[0m\u001b[0mDRs\u001b[0m \u001b[1;33m-\u001b[0m \u001b[0mPDs\u001b[0m\u001b[1;33m)\u001b[0m\u001b[1;33m/\u001b[0m\u001b[0mnp\u001b[0m\u001b[1;33m.\u001b[0m\u001b[0msqrt\u001b[0m\u001b[1;33m(\u001b[0m\u001b[1;33m(\u001b[0m\u001b[0mPDs\u001b[0m\u001b[1;33m*\u001b[0m\u001b[1;33m(\u001b[0m\u001b[1;36m1\u001b[0m\u001b[1;33m-\u001b[0m\u001b[0mPDs\u001b[0m\u001b[1;33m)\u001b[0m\u001b[1;33m)\u001b[0m\u001b[1;33m/\u001b[0m\u001b[0mDRsn\u001b[0m\u001b[1;33m)\u001b[0m\u001b[1;33m\u001b[0m\u001b[1;33m\u001b[0m\u001b[0m\n\u001b[0;32m      3\u001b[0m \u001b[0mprint\u001b[0m\u001b[1;33m(\u001b[0m\u001b[1;33m(\u001b[0m\u001b[0mPDs\u001b[0m\u001b[1;33m*\u001b[0m\u001b[1;33m(\u001b[0m\u001b[1;36m1\u001b[0m\u001b[1;33m-\u001b[0m\u001b[0mPDs\u001b[0m\u001b[1;33m)\u001b[0m\u001b[1;33m)\u001b[0m\u001b[1;33m/\u001b[0m\u001b[0mDRsnn\u001b[0m\u001b[1;33m)\u001b[0m\u001b[1;33m\u001b[0m\u001b[1;33m\u001b[0m\u001b[0m\n\u001b[0;32m      4\u001b[0m \u001b[0mscipy\u001b[0m\u001b[1;33m.\u001b[0m\u001b[0mstats\u001b[0m\u001b[1;33m.\u001b[0m\u001b[0mnorm\u001b[0m\u001b[1;33m(\u001b[0m\u001b[0mx\u001b[0m\u001b[1;33m=\u001b[0m\u001b[0mz\u001b[0m\u001b[1;33m,\u001b[0m \u001b[0mloc\u001b[0m\u001b[1;33m=\u001b[0m\u001b[1;36m0\u001b[0m\u001b[1;33m,\u001b[0m \u001b[0mscale\u001b[0m\u001b[1;33m=\u001b[0m\u001b[1;36m1\u001b[0m\u001b[1;33m)\u001b[0m\u001b[1;33m\u001b[0m\u001b[1;33m\u001b[0m\u001b[0m\n\u001b[0;32m      5\u001b[0m \u001b[0mprint\u001b[0m\u001b[1;33m(\u001b[0m\u001b[0mz\u001b[0m\u001b[1;33m)\u001b[0m\u001b[1;33m\u001b[0m\u001b[1;33m\u001b[0m\u001b[0m\n",
      "\u001b[1;31mNameError\u001b[0m: name 'DRsn' is not defined"
     ]
    }
   ],
   "source": [
    "sig = (PDs*(1-PDs))/DRsn\n",
    "z = (DRs - PDs)/np.sqrt((PDs*(1-PDs))/DRsn)\n",
    "print((PDs*(1-PDs))/DRsnn)\n",
    "scipy.stats.norm(x=z, loc=0, scale=1)\n",
    "print(z)"
   ]
  },
  {
   "cell_type": "code",
   "execution_count": 15,
   "metadata": {},
   "outputs": [
    {
     "data": {
      "text/plain": [
       "array([7.54107375e-098, 1.11700142e-126, 5.08763123e-095, 4.79572166e-095,\n",
       "       2.73930221e-053, 1.08205942e-023, 2.85586781e-046, 2.83157764e-036,\n",
       "       1.67605588e-049, 2.81714230e-044, 1.91080838e-035, 2.22450655e-053,\n",
       "       1.18622483e-031, 1.16728156e-028, 1.60045548e-022, 7.50682734e-002])"
      ]
     },
     "execution_count": 15,
     "metadata": {},
     "output_type": "execute_result"
    }
   ],
   "source": [
    "scipy.stats.norm.pdf(x=z, loc=0, scale=1)"
   ]
  },
  {
   "cell_type": "code",
   "execution_count": 16,
   "metadata": {},
   "outputs": [
    {
     "data": {
      "text/plain": [
       "3.088794653444533e-192"
      ]
     },
     "execution_count": 16,
     "metadata": {},
     "output_type": "execute_result"
    }
   ],
   "source": [
    "import scipy\n",
    "scipy.stats.binom_test(153, 1722, 0.002, alternative='greater')"
   ]
  },
  {
   "cell_type": "code",
   "execution_count": 17,
   "metadata": {},
   "outputs": [
    {
     "name": "stdout",
     "output_type": "stream",
     "text": [
      "[0.02000381 0.03410269 0.05723499 0.09430898 0.15202604 0.20391392\n",
      " 0.27401044 0.34892236 0.43797876 0.55028696 0.58687602 0.64998902\n",
      " 0.71449695 0.76711079 0.81841837 0.8773535 ]\n"
     ]
    }
   ],
   "source": [
    "from scipy.stats import norm\n",
    "q = norm.cdf(((norm.ppf(PDs))+math.sqrt(0.15)*(norm.ppf(0.999)))/math.sqrt(1-0.15))\n",
    "print(q)"
   ]
  },
  {
   "cell_type": "code",
   "execution_count": 19,
   "metadata": {},
   "outputs": [
    {
     "data": {
      "text/plain": [
       "2.0536532200343904e-303"
      ]
     },
     "execution_count": 19,
     "metadata": {},
     "output_type": "execute_result"
    }
   ],
   "source": [
    "90*0.45*(1-0.45)**1172"
   ]
  },
  {
   "cell_type": "code",
   "execution_count": null,
   "metadata": {},
   "outputs": [],
   "source": []
  },
  {
   "cell_type": "code",
   "execution_count": null,
   "metadata": {},
   "outputs": [],
   "source": []
  }
 ],
 "metadata": {
  "kernelspec": {
   "display_name": "Python 3",
   "language": "python",
   "name": "python3"
  },
  "language_info": {
   "codemirror_mode": {
    "name": "ipython",
    "version": 3
   },
   "file_extension": ".py",
   "mimetype": "text/x-python",
   "name": "python",
   "nbconvert_exporter": "python",
   "pygments_lexer": "ipython3",
   "version": "3.7.6"
  }
 },
 "nbformat": 4,
 "nbformat_minor": 4
}
