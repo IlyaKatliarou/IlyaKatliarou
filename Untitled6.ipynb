{
 "cells": [
  {
   "cell_type": "code",
   "execution_count": 513,
   "metadata": {},
   "outputs": [
    {
     "name": "stdout",
     "output_type": "stream",
     "text": [
      "<class 'pandas.core.frame.DataFrame'>\n",
      "Int64Index: 10000 entries, 1 to 10000\n",
      "Data columns (total 14 columns):\n",
      " #   Column              Non-Null Count  Dtype  \n",
      "---  ------              --------------  -----  \n",
      " 0   sector              10000 non-null  object \n",
      " 1   employees           10000 non-null  int64  \n",
      " 2   income              10000 non-null  float64\n",
      " 3   marketing_spending  10000 non-null  int64  \n",
      " 4   acc_before          10000 non-null  int64  \n",
      " 5   pwc_press_index     10000 non-null  float64\n",
      " 6   fb_likes            10000 non-null  int64  \n",
      " 7   twt_followers       10000 non-null  int64  \n",
      " 8   year_founded        10000 non-null  int64  \n",
      " 9   exp_ceo             5603 non-null   float64\n",
      " 10  area                10000 non-null  int64  \n",
      " 11  pwc_employees       10000 non-null  int64  \n",
      " 12  credit              10000 non-null  int64  \n",
      " 13  flag                10000 non-null  int64  \n",
      "dtypes: float64(3), int64(10), object(1)\n",
      "memory usage: 1.1+ MB\n",
      "   sector  employees    income  marketing_spending  acc_before  \\\n",
      "ID                                                               \n",
      "1     PUB          2  150426.0                7964           0   \n",
      "2     PUB          6  500078.0               30212           0   \n",
      "3      IT         27  199767.0                4970           0   \n",
      "4      IT          5  109200.0                7010           1   \n",
      "5      IT          3  112200.0                9000           0   \n",
      "\n",
      "    pwc_press_index  fb_likes  twt_followers  year_founded  exp_ceo  area  \\\n",
      "ID                                                                          \n",
      "1         -8.078335      1633            138          2010      NaN    32   \n",
      "2         17.032851      6128            605          2011      NaN    44   \n",
      "3         -7.321621       487            106          2005      NaN    83   \n",
      "4          1.135431       661            116          2011      NaN    21   \n",
      "5          0.950873       926            172          2012      5.0    23   \n",
      "\n",
      "    pwc_employees  credit  flag  \n",
      "ID                               \n",
      "1               0   19950     0  \n",
      "2               1   45104     1  \n",
      "3               0     499     0  \n",
      "4               1       0     1  \n",
      "5               0    -997     1   None\n"
     ]
    }
   ],
   "source": [
    "import pandas as pd\n",
    "import numpy as np\n",
    "import matplotlib.pyplot as plt\n",
    "import seaborn as sns\n",
    "\n",
    "from sklearn.preprocessing import OrdinalEncoder\n",
    "from sklearn.model_selection import train_test_split\n",
    "from sklearn.linear_model import LogisticRegression\n",
    "from sklearn.preprocessing import StandardScaler, MinMaxScaler\n",
    "from sklearn.model_selection import GridSearchCV, StratifiedKFold\n",
    "from sklearn.metrics import roc_auc_score, auc, roc_curve, confusion_matrix\n",
    "from sklearn.pipeline import Pipeline\n",
    "from sklearn.compose import ColumnTransformer\n",
    "from sklearn.model_selection import cross_val_score\n",
    "from sklearn.tree import DecisionTreeClassifier\n",
    "from sklearn import metrics\n",
    "\n",
    "data = pd.read_csv('acceleration_data.csv', sep=',', header=0, index_col=0)\n",
    "data = data.rename(columns=str.lower)\n",
    "data = data.drop(['longitude', 'latitude'], axis=1)\n",
    "#data.plot(kind='scatter',x='longitude',y='latitude',alpha=0.1)\n",
    "print(data.head(), data.info())"
   ]
  },
  {
   "cell_type": "code",
   "execution_count": 514,
   "metadata": {},
   "outputs": [
    {
     "name": "stdout",
     "output_type": "stream",
     "text": [
      "[IT            6224\n",
      "PUB           1263\n",
      "RESTAURANT    1260\n",
      "CAFE          1253\n",
      "Name: sector, dtype: int64]\n",
      "         income  pwc_press_index  exp_ceo\n",
      "ID                                       \n",
      "1      150426.0        -8.078335      0.0\n",
      "2      500078.0        17.032851      0.0\n",
      "3      199767.0        -7.321621      0.0\n",
      "4      109200.0         1.135431      0.0\n",
      "5      112200.0         0.950873      5.0\n",
      "...         ...              ...      ...\n",
      "9996    79900.0         0.974774      0.0\n",
      "9997   336500.0         4.389039      0.0\n",
      "9998   200265.0        -4.523559      5.0\n",
      "9999   199951.0        -3.898251      6.0\n",
      "10000  272350.0        -2.169033     13.0\n",
      "\n",
      "[10000 rows x 3 columns] [[2]\n",
      " [2]\n",
      " [1]\n",
      " ...\n",
      " [1]\n",
      " [1]\n",
      " [1]]        employees    income  marketing_spending  acc_before  pwc_press_index  \\\n",
      "1       0.016129  0.105924                 0.0    0.226698         0.087518   \n",
      "2       0.080645  0.436258                 0.0    0.887533         0.422525   \n",
      "3       0.419355  0.061470                 0.0    0.058218         0.064562   \n",
      "4       0.064516  0.091759                 1.0    0.083799         0.071736   \n",
      "5       0.032258  0.121307                 0.0    0.122758         0.111908   \n",
      "...          ...       ...                 ...         ...              ...   \n",
      "9996    0.112903  0.121010                 0.0    0.117171         0.117647   \n",
      "9997    0.290323  0.343133                 0.0    0.336960         0.344333   \n",
      "9998    0.032258  0.061633                 1.0    0.060423         0.066714   \n",
      "9999    0.467742  0.061277                 1.0    0.064834         0.060976   \n",
      "10000   0.870968  0.135739                 1.0    0.135254         0.114778   \n",
      "\n",
      "       fb_likes  twt_followers  year_founded   exp_ceo      area  \\\n",
      "1          0.84       0.055851      0.000000  0.002266  0.233564   \n",
      "2          0.88       0.087766      0.066667  0.004180  0.773234   \n",
      "3          0.64       0.191489      0.000000  0.000786  0.309719   \n",
      "4          0.88       0.026596      0.066667  0.000748  0.169934   \n",
      "5          0.92       0.031915      0.000000  0.000672  0.174564   \n",
      "...         ...            ...           ...       ...       ...   \n",
      "9996       0.92       0.018617      0.133333  0.000901  0.124711   \n",
      "9997       0.68       0.507979      0.333333  0.000748  0.520759   \n",
      "9998       0.52       0.167553      0.066667  0.000786  0.310488   \n",
      "9999       0.48       0.172872      0.000000  0.000824  0.310003   \n",
      "10000      0.40       0.872340      0.266667  0.000832  0.421747   \n",
      "\n",
      "       pwc_employees    credit  \n",
      "1           0.311094  0.000000  \n",
      "2           0.565432  0.000000  \n",
      "3           0.318759  0.000000  \n",
      "4           0.404416  0.000000  \n",
      "5           0.402546  0.238095  \n",
      "...              ...       ...  \n",
      "9996        0.402788  0.000000  \n",
      "9997        0.437370  0.000000  \n",
      "9998        0.347099  0.238095  \n",
      "9999        0.353432  0.285714  \n",
      "10000       0.370946  0.619048  \n",
      "\n",
      "[10000 rows x 12 columns]\n"
     ]
    }
   ],
   "source": [
    "data_cat = data.select_dtypes(include='object').copy()\n",
    "data_cat.apply(pd.value_counts)\n",
    "freq_of_cat = [data_cat[x].value_counts() for x in data_cat.columns]\n",
    "print (freq_of_cat)\n",
    "\n",
    "data_num =  data.select_dtypes(include='int64').copy()\n",
    "\n",
    "data_float =  data.select_dtypes(include='float64').copy()\n",
    "data_float_new = data_float.fillna(0)\n",
    "\n",
    "data_num_float = pd.concat([data_num, data_float_new], axis=1, sort=False)\n",
    "data_flag = data_num_float['flag'].copy()\n",
    "data_num_float = data_num_float.drop('flag', 1)\n",
    "\n",
    "categorical = data_cat.select_dtypes(include='object').copy()\n",
    "encoder = OrdinalEncoder(dtype=np.int64)\n",
    "categorical = encoder.fit_transform(categorical)\n",
    "\n",
    "scaler = MinMaxScaler()\n",
    "numandfloat = scaler.fit_transform(data_num_float)\n",
    "\n",
    "data_numandfloat = pd.DataFrame(numandfloat, index=range(1,10001), columns=['employees','income','marketing_spending','acc_before','pwc_press_index','fb_likes','twt_followers','year_founded','exp_ceo','area','pwc_employees','credit'])\n",
    "data_cat_new = pd.DataFrame(categorical, index=range(1,10001), columns=['sector'])\n",
    "print(data_float_new, categorical, data_numandfloat)"
   ]
  },
  {
   "cell_type": "code",
   "execution_count": 515,
   "metadata": {},
   "outputs": [
    {
     "name": "stdout",
     "output_type": "stream",
     "text": [
      "       sector  employees  marketing_spending  acc_before  fb_likes  \\\n",
      "1           2          2                7964           0      1633   \n",
      "2           2          6               30212           0      6128   \n",
      "3           1         27                4970           0       487   \n",
      "4           1          5                7010           1       661   \n",
      "5           1          3                9000           0       926   \n",
      "...       ...        ...                 ...         ...       ...   \n",
      "9996        1          8                8980           0       888   \n",
      "9997        1         19               23940           0      2383   \n",
      "9998        1          3                4981           1       502   \n",
      "9999        1         30                4957           1       532   \n",
      "10000       1         55                9972           1      1011   \n",
      "\n",
      "       twt_followers  year_founded  area  pwc_employees  credit  flag  \\\n",
      "1                138          2010    32              0   19950     0   \n",
      "2                605          2011    44              1   45104     1   \n",
      "3                106          2005    83              0     499     0   \n",
      "4                116          2011    21              1       0     1   \n",
      "5                172          2012    23              0    -997     1   \n",
      "...              ...           ...   ...            ...     ...   ...   \n",
      "9996             180          2012    18              2    2004     1   \n",
      "9997             496          2006   202              5       0     1   \n",
      "9998             109          2002    74              1     499     0   \n",
      "9999             101          2001    76              0    1000     1   \n",
      "10000            176          1999   339              4    1103     1   \n",
      "\n",
      "         income  pwc_press_index  exp_ceo  \n",
      "1      150426.0        -8.078335      0.0  \n",
      "2      500078.0        17.032851      0.0  \n",
      "3      199767.0        -7.321621      0.0  \n",
      "4      109200.0         1.135431      0.0  \n",
      "5      112200.0         0.950873      5.0  \n",
      "...         ...              ...      ...  \n",
      "9996    79900.0         0.974774      0.0  \n",
      "9997   336500.0         4.389039      0.0  \n",
      "9998   200265.0        -4.523559      5.0  \n",
      "9999   199951.0        -3.898251      6.0  \n",
      "10000  272350.0        -2.169033     13.0  \n",
      "\n",
      "[10000 rows x 14 columns]\n"
     ]
    }
   ],
   "source": [
    "data_new1 = pd.concat([data_cat_new, data_num, data_float_new], axis=1, sort=False)\n",
    "print(data_new1)"
   ]
  },
  {
   "cell_type": "code",
   "execution_count": 516,
   "metadata": {},
   "outputs": [
    {
     "data": {
      "text/plain": [
       "array([[<matplotlib.axes._subplots.AxesSubplot object at 0x000001FC2098B488>,\n",
       "        <matplotlib.axes._subplots.AxesSubplot object at 0x000001FC223DDAC8>,\n",
       "        <matplotlib.axes._subplots.AxesSubplot object at 0x000001FC223D1B48>,\n",
       "        <matplotlib.axes._subplots.AxesSubplot object at 0x000001FC223FB3C8>],\n",
       "       [<matplotlib.axes._subplots.AxesSubplot object at 0x000001FC2243A808>,\n",
       "        <matplotlib.axes._subplots.AxesSubplot object at 0x000001FC22469E48>,\n",
       "        <matplotlib.axes._subplots.AxesSubplot object at 0x000001FC224A2BC8>,\n",
       "        <matplotlib.axes._subplots.AxesSubplot object at 0x000001FC224D9948>],\n",
       "       [<matplotlib.axes._subplots.AxesSubplot object at 0x000001FC224CBAC8>,\n",
       "        <matplotlib.axes._subplots.AxesSubplot object at 0x000001FC22517588>,\n",
       "        <matplotlib.axes._subplots.AxesSubplot object at 0x000001FC2257A2C8>,\n",
       "        <matplotlib.axes._subplots.AxesSubplot object at 0x000001FC225B33C8>],\n",
       "       [<matplotlib.axes._subplots.AxesSubplot object at 0x000001FC225EB4C8>,\n",
       "        <matplotlib.axes._subplots.AxesSubplot object at 0x000001FC22625608>,\n",
       "        <matplotlib.axes._subplots.AxesSubplot object at 0x000001FC2265D7C8>,\n",
       "        <matplotlib.axes._subplots.AxesSubplot object at 0x000001FC22695988>]],\n",
       "      dtype=object)"
      ]
     },
     "execution_count": 516,
     "metadata": {},
     "output_type": "execute_result"
    },
    {
     "data": {
      "image/png": "[encoded data removed]",
      "text/plain": [
       "<Figure size 1440x1080 with 16 Axes>"
      ]
     },
     "metadata": {
      "needs_background": "light"
     },
     "output_type": "display_data"
    }
   ],
   "source": [
    "%matplotlib inline\n",
    "data.hist(bins=50, figsize=(20,15))"
   ]
  },
  {
   "cell_type": "code",
   "execution_count": 517,
   "metadata": {},
   "outputs": [
    {
     "data": {
      "text/html": [
       "<div>\n",
       "<style scoped>\n",
       "    .dataframe tbody tr th:only-of-type {\n",
       "        vertical-align: middle;\n",
       "    }\n",
       "\n",
       "    .dataframe tbody tr th {\n",
       "        vertical-align: top;\n",
       "    }\n",
       "\n",
       "    .dataframe thead th {\n",
       "        text-align: right;\n",
       "    }\n",
       "</style>\n",
       "<table border=\"1\" class=\"dataframe\">\n",
       "  <thead>\n",
       "    <tr style=\"text-align: right;\">\n",
       "      <th></th>\n",
       "      <th>sector</th>\n",
       "      <th>employees</th>\n",
       "      <th>income</th>\n",
       "      <th>marketing_spending</th>\n",
       "      <th>acc_before</th>\n",
       "      <th>pwc_press_index</th>\n",
       "      <th>fb_likes</th>\n",
       "      <th>twt_followers</th>\n",
       "      <th>year_founded</th>\n",
       "      <th>exp_ceo</th>\n",
       "      <th>area</th>\n",
       "      <th>pwc_employees</th>\n",
       "      <th>credit</th>\n",
       "      <th>flag</th>\n",
       "    </tr>\n",
       "  </thead>\n",
       "  <tbody>\n",
       "    <tr>\n",
       "      <th>1</th>\n",
       "      <td>2</td>\n",
       "      <td>0.016129</td>\n",
       "      <td>0.105924</td>\n",
       "      <td>0.0</td>\n",
       "      <td>0.226698</td>\n",
       "      <td>0.087518</td>\n",
       "      <td>0.84</td>\n",
       "      <td>0.055851</td>\n",
       "      <td>0.000000</td>\n",
       "      <td>0.002266</td>\n",
       "      <td>0.233564</td>\n",
       "      <td>0.311094</td>\n",
       "      <td>0.000000</td>\n",
       "      <td>0</td>\n",
       "    </tr>\n",
       "    <tr>\n",
       "      <th>2</th>\n",
       "      <td>2</td>\n",
       "      <td>0.080645</td>\n",
       "      <td>0.436258</td>\n",
       "      <td>0.0</td>\n",
       "      <td>0.887533</td>\n",
       "      <td>0.422525</td>\n",
       "      <td>0.88</td>\n",
       "      <td>0.087766</td>\n",
       "      <td>0.066667</td>\n",
       "      <td>0.004180</td>\n",
       "      <td>0.773234</td>\n",
       "      <td>0.565432</td>\n",
       "      <td>0.000000</td>\n",
       "      <td>1</td>\n",
       "    </tr>\n",
       "    <tr>\n",
       "      <th>3</th>\n",
       "      <td>1</td>\n",
       "      <td>0.419355</td>\n",
       "      <td>0.061470</td>\n",
       "      <td>0.0</td>\n",
       "      <td>0.058218</td>\n",
       "      <td>0.064562</td>\n",
       "      <td>0.64</td>\n",
       "      <td>0.191489</td>\n",
       "      <td>0.000000</td>\n",
       "      <td>0.000786</td>\n",
       "      <td>0.309719</td>\n",
       "      <td>0.318759</td>\n",
       "      <td>0.000000</td>\n",
       "      <td>0</td>\n",
       "    </tr>\n",
       "    <tr>\n",
       "      <th>4</th>\n",
       "      <td>1</td>\n",
       "      <td>0.064516</td>\n",
       "      <td>0.091759</td>\n",
       "      <td>1.0</td>\n",
       "      <td>0.083799</td>\n",
       "      <td>0.071736</td>\n",
       "      <td>0.88</td>\n",
       "      <td>0.026596</td>\n",
       "      <td>0.066667</td>\n",
       "      <td>0.000748</td>\n",
       "      <td>0.169934</td>\n",
       "      <td>0.404416</td>\n",
       "      <td>0.000000</td>\n",
       "      <td>1</td>\n",
       "    </tr>\n",
       "    <tr>\n",
       "      <th>5</th>\n",
       "      <td>1</td>\n",
       "      <td>0.032258</td>\n",
       "      <td>0.121307</td>\n",
       "      <td>0.0</td>\n",
       "      <td>0.122758</td>\n",
       "      <td>0.111908</td>\n",
       "      <td>0.92</td>\n",
       "      <td>0.031915</td>\n",
       "      <td>0.000000</td>\n",
       "      <td>0.000672</td>\n",
       "      <td>0.174564</td>\n",
       "      <td>0.402546</td>\n",
       "      <td>0.238095</td>\n",
       "      <td>1</td>\n",
       "    </tr>\n",
       "  </tbody>\n",
       "</table>\n",
       "</div>"
      ],
      "text/plain": [
       "   sector  employees    income  marketing_spending  acc_before  \\\n",
       "1       2   0.016129  0.105924                 0.0    0.226698   \n",
       "2       2   0.080645  0.436258                 0.0    0.887533   \n",
       "3       1   0.419355  0.061470                 0.0    0.058218   \n",
       "4       1   0.064516  0.091759                 1.0    0.083799   \n",
       "5       1   0.032258  0.121307                 0.0    0.122758   \n",
       "\n",
       "   pwc_press_index  fb_likes  twt_followers  year_founded   exp_ceo      area  \\\n",
       "1         0.087518      0.84       0.055851      0.000000  0.002266  0.233564   \n",
       "2         0.422525      0.88       0.087766      0.066667  0.004180  0.773234   \n",
       "3         0.064562      0.64       0.191489      0.000000  0.000786  0.309719   \n",
       "4         0.071736      0.88       0.026596      0.066667  0.000748  0.169934   \n",
       "5         0.111908      0.92       0.031915      0.000000  0.000672  0.174564   \n",
       "\n",
       "   pwc_employees    credit  flag  \n",
       "1       0.311094  0.000000     0  \n",
       "2       0.565432  0.000000     1  \n",
       "3       0.318759  0.000000     0  \n",
       "4       0.404416  0.000000     1  \n",
       "5       0.402546  0.238095     1  "
      ]
     },
     "execution_count": 517,
     "metadata": {},
     "output_type": "execute_result"
    }
   ],
   "source": [
    "data_new = pd.concat([data_cat_new, data_numandfloat, data_flag], axis=1, sort=False)\n",
    "data_new.head()"
   ]
  },
  {
   "cell_type": "code",
   "execution_count": 518,
   "metadata": {},
   "outputs": [],
   "source": [
    "#Dzielenie na zbiór uczący i testowy\n",
    "train_set, test_set = train_test_split(data_new, test_size=0.2, random_state=42)\n",
    "\n",
    "X_train = train_set.drop('flag',1)\n",
    "y_train = train_set['flag']\n",
    "X_test = test_set.drop('flag',1)\n",
    "y_test = test_set['flag']"
   ]
  },
  {
   "cell_type": "code",
   "execution_count": 519,
   "metadata": {},
   "outputs": [
    {
     "data": {
      "image/png": "[encoded data removed]",
      "text/plain": [
       "<Figure size 432x288 with 1 Axes>"
      ]
     },
     "metadata": {
      "needs_background": "light"
     },
     "output_type": "display_data"
    },
    {
     "name": "stdout",
     "output_type": "stream",
     "text": [
      "          sector\n",
      "ID              \n",
      "9255          IT\n",
      "1562          IT\n",
      "1671          IT\n",
      "6088          IT\n",
      "6670          IT\n",
      "...          ...\n",
      "5735        CAFE\n",
      "5192        CAFE\n",
      "5391  RESTAURANT\n",
      "861   RESTAURANT\n",
      "7271          IT\n",
      "\n",
      "[8000 rows x 1 columns] 0    6636\n",
      "1    3364\n",
      "Name: acc_before, dtype: int64\n"
     ]
    }
   ],
   "source": [
    "sns.countplot(x='flag', data=data_new, palette = 'hls')\n",
    "plt.show()\n",
    "#Liczenie w podziale na sektory i accelerated before\n",
    "data_sector_count = data['sector'].value_counts()\n",
    "data_acc_before_count = data['acc_before'].value_counts()\n",
    "print(data_sector, data_acc_before)"
   ]
  },
  {
   "cell_type": "code",
   "execution_count": 520,
   "metadata": {},
   "outputs": [
    {
     "name": "stdout",
     "output_type": "stream",
     "text": [
      "0.718 0.693625 [1 1 0 ... 1 0 0] [[2668 1134]\n",
      " [1317 2881]]\n"
     ]
    }
   ],
   "source": [
    "#Standarized\n",
    "logreg = LogisticRegression(solver='liblinear', multi_class='ovr', random_state=42)\n",
    "logreg.fit(X_train, y_train)\n",
    "y_pred = logreg.predict(X_test)\n",
    "conf=confusion_matrix(y_train, logreg.predict(X_train))\n",
    "print(logreg.score(X_test, y_test), logreg.score(X_train, y_train), y_pred, conf)"
   ]
  },
  {
   "cell_type": "code",
   "execution_count": 521,
   "metadata": {},
   "outputs": [
    {
     "name": "stdout",
     "output_type": "stream",
     "text": [
      "The Best Penalty: l1\n",
      "The Best C: 1.0\n"
     ]
    }
   ],
   "source": [
    "grid={\"C\":np.array([0.001,0.01,0.1,1,10,100,1000]), \"penalty\":[\"l1\",\"l2\"]}\n",
    "logreg_cv=GridSearchCV(logreg,grid,cv=10)\n",
    "logreg_cv.fit(X_test,y_test)\n",
    "print('The Best Penalty:', logreg_cv.best_estimator_.get_params()['penalty'])\n",
    "print('The Best C:', logreg_cv.best_estimator_.get_params()['C'])"
   ]
  },
  {
   "cell_type": "code",
   "execution_count": 522,
   "metadata": {},
   "outputs": [
    {
     "name": "stdout",
     "output_type": "stream",
     "text": [
      "0.7215 0.698125 [1 1 0 ... 1 0 0] [[2718 1084]\n",
      " [1331 2867]]\n"
     ]
    }
   ],
   "source": [
    "logreg1 = LogisticRegression(penalty='l1', C=1.0, solver='liblinear', random_state=42)\n",
    "logreg1.fit(X_train, y_train)\n",
    "y_pred = logreg1.predict(X_test)\n",
    "conf=confusion_matrix(y_train, logreg1.predict(X_train))\n",
    "print(logreg1.score(X_test, y_test), logreg1.score(X_train, y_train), y_pred, conf)"
   ]
  },
  {
   "cell_type": "code",
   "execution_count": 527,
   "metadata": {},
   "outputs": [
    {
     "name": "stdout",
     "output_type": "stream",
     "text": [
      "Cross-Validation Accuracy Scores [0.65   0.7025 0.68   0.6375 0.6775 0.7125 0.7    0.7    0.715  0.7225\n",
      " 0.68   0.73   0.69   0.6625 0.665  0.7125 0.725  0.6975 0.71   0.675 ]\n",
      "[[0.0289659  0.9710341 ]\n",
      " [0.245098   0.754902  ]\n",
      " [0.71244243 0.28755757]\n",
      " [0.47365328 0.52634672]\n",
      " [0.7990395  0.2009605 ]\n",
      " [0.48694868 0.51305132]\n",
      " [0.53367338 0.46632662]\n",
      " [0.5410901  0.4589099 ]\n",
      " [0.57985693 0.42014307]\n",
      " [0.18386694 0.81613306]\n",
      " [0.40715304 0.59284696]\n",
      " [0.02264484 0.97735516]\n",
      " [0.69170183 0.30829817]\n",
      " [0.27903834 0.72096166]\n",
      " [0.68793675 0.31206325]]\n"
     ]
    }
   ],
   "source": [
    "scores = cross_val_score(logreg, X_train, y_train, cv=20)\n",
    "print('Cross-Validation Accuracy Scores', scores)\n",
    "print(logreg1.predict_proba(X_test)[:15])"
   ]
  },
  {
   "cell_type": "code",
   "execution_count": 488,
   "metadata": {},
   "outputs": [],
   "source": [
    "#Nonstandarized\n",
    "train_set, test_set = train_test_split(data_new1, test_size=0.2, random_state=42)\n",
    "\n",
    "X_train = train_set.drop('flag',1)\n",
    "y_train = train_set['flag']\n",
    "X_test = test_set.drop('flag',1)\n",
    "y_test = test_set['flag']"
   ]
  },
  {
   "cell_type": "code",
   "execution_count": 489,
   "metadata": {},
   "outputs": [
    {
     "name": "stdout",
     "output_type": "stream",
     "text": [
      "0.7025 0.699125 [1 1 0 ... 0 0 0] [[2946  856]\n",
      " [1551 2647]]\n"
     ]
    }
   ],
   "source": [
    "log_reg = LogisticRegression(solver='liblinear')\n",
    "log_reg.fit(X_train, y_train)\n",
    "y_pred = log_reg.predict(X_test)\n",
    "conf=confusion_matrix(y_train, log_reg.predict(X_train))\n",
    "print(log_reg.score(X_test, y_test), log_reg.score(X_train, y_train), y_pred, conf)"
   ]
  },
  {
   "cell_type": "code",
   "execution_count": 490,
   "metadata": {},
   "outputs": [
    {
     "name": "stderr",
     "output_type": "stream",
     "text": [
      "C:\\Users\\HP\\anaconda3\\lib\\site-packages\\sklearn\\svm\\_base.py:947: ConvergenceWarning: Liblinear failed to converge, increase the number of iterations.\n",
      "  \"the number of iterations.\", ConvergenceWarning)\n"
     ]
    },
    {
     "name": "stdout",
     "output_type": "stream",
     "text": [
      "The Best Penalty: l1\n",
      "The Best C: 0.01\n"
     ]
    }
   ],
   "source": [
    "grid={\"C\":np.array([0.001,0.01,0.1,1,10,100,1000]), \"penalty\":[\"l1\",\"l2\"]}\n",
    "logreg_cv=GridSearchCV(log_reg,grid,cv=10)\n",
    "logreg_cv.fit(X_test,y_test)\n",
    "print('The Best Penalty:', logreg_cv.best_estimator_.get_params()['penalty'])\n",
    "print('The Best C:', logreg_cv.best_estimator_.get_params()['C'])"
   ]
  },
  {
   "cell_type": "code",
   "execution_count": 491,
   "metadata": {},
   "outputs": [
    {
     "name": "stdout",
     "output_type": "stream",
     "text": [
      "0.7155 0.692375 [1 1 0 ... 1 0 0] [[2639 1163]\n",
      " [1298 2900]]\n"
     ]
    }
   ],
   "source": [
    "log_reg1 = LogisticRegression(penalty='l1', C=0.01, solver='liblinear')\n",
    "log_reg1.fit(X_train, y_train)\n",
    "y_pred = log_reg1.predict(X_test)\n",
    "conf=confusion_matrix(y_train, log_reg1.predict(X_train))\n",
    "print(log_reg1.score(X_test, y_test), log_reg1.score(X_train, y_train), y_pred, conf)"
   ]
  },
  {
   "cell_type": "code",
   "execution_count": 492,
   "metadata": {},
   "outputs": [
    {
     "name": "stdout",
     "output_type": "stream",
     "text": [
      "Cross-Validation Accuracy Scores [0.6775 0.6825 0.7175 0.655  0.685  0.7325 0.6875 0.705  0.735  0.71\n",
      " 0.705  0.7225 0.705  0.7    0.6725 0.71   0.7075 0.655  0.705  0.6925]\n"
     ]
    }
   ],
   "source": [
    "scores = cross_val_score(log_reg, X_train, y_train, cv=20)\n",
    "print('Cross-Validation Accuracy Scores', scores)"
   ]
  },
  {
   "cell_type": "code",
   "execution_count": 493,
   "metadata": {},
   "outputs": [
    {
     "name": "stdout",
     "output_type": "stream",
     "text": [
      "Accuracy: 0.7035\n"
     ]
    }
   ],
   "source": [
    "clf = DecisionTreeClassifier()\n",
    "\n",
    "clf = clf.fit(X_train,y_train)\n",
    "\n",
    "y_pred = clf.predict(X_test)\n",
    "print(\"Accuracy:\",metrics.accuracy_score(y_test, y_pred))"
   ]
  },
  {
   "cell_type": "code",
   "execution_count": 512,
   "metadata": {},
   "outputs": [
    {
     "name": "stdout",
     "output_type": "stream",
     "text": [
      "[[0.0289659  0.9710341 ]\n",
      " [0.245098   0.754902  ]\n",
      " [0.71244243 0.28755757]\n",
      " ...\n",
      " [0.44244202 0.55755798]\n",
      " [0.60972666 0.39027334]\n",
      " [0.67535323 0.32464677]]\n"
     ]
    }
   ],
   "source": [
    "neww = [[2, 38, 8000, 1, 5000, 200, 2010, 50, 5, 0, 200000, 4.65789321, 4]]\n",
    "data_neww= pd.DataFrame(neww)\n",
    "print(logreg1.predict_proba(X_test))"
   ]
  },
  {
   "cell_type": "code",
   "execution_count": 509,
   "metadata": {},
   "outputs": [
    {
     "data": {
      "text/plain": [
       "array([[-0.05269746,  3.04795989, 21.03685313, -0.52391973, -8.79485655,\n",
       "         0.        ,  2.45001303, -2.45592748,  1.37426185,  0.31565578,\n",
       "        -1.58218422,  0.35148782,  0.18413748]])"
      ]
     },
     "execution_count": 509,
     "metadata": {},
     "output_type": "execute_result"
    }
   ],
   "source": [
    "logreg1.coef_"
   ]
  },
  {
   "cell_type": "code",
   "execution_count": null,
   "metadata": {},
   "outputs": [],
   "source": []
  }
 ],
 "metadata": {
  "kernelspec": {
   "display_name": "Python 3",
   "language": "python",
   "name": "python3"
  },
  "language_info": {
   "codemirror_mode": {
    "name": "ipython",
    "version": 3
   },
   "file_extension": ".py",
   "mimetype": "text/x-python",
   "name": "python",
   "nbconvert_exporter": "python",
   "pygments_lexer": "ipython3",
   "version": "3.7.6"
  }
 },
 "nbformat": 4,
 "nbformat_minor": 4
}
